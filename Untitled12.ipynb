{
  "nbformat": 4,
  "nbformat_minor": 0,
  "metadata": {
    "colab": {
      "provenance": [],
      "authorship_tag": "ABX9TyPDpFFpSb3Fw9UYO624XSA9",
      "include_colab_link": true
    },
    "kernelspec": {
      "name": "python3",
      "display_name": "Python 3"
    },
    "language_info": {
      "name": "python"
    }
  },
  "cells": [
    {
      "cell_type": "markdown",
      "metadata": {
        "id": "view-in-github",
        "colab_type": "text"
      },
      "source": [
        "<a href=\"https://colab.research.google.com/github/Ruby0219/Introduction-in-Computer-/blob/main/Untitled12.ipynb\" target=\"_parent\"><img src=\"https://colab.research.google.com/assets/colab-badge.svg\" alt=\"Open In Colab\"/></a>"
      ]
    },
    {
      "cell_type": "code",
      "execution_count": 1,
      "metadata": {
        "colab": {
          "base_uri": "https://localhost:8080/"
        },
        "id": "B4k9uC6Xrblu",
        "outputId": "27e28097-0a65-4f44-8606-1a4855539802"
      },
      "outputs": [
        {
          "output_type": "stream",
          "name": "stdout",
          "text": [
            "今天會下雨嗎？Y\n",
            "記得帶傘\n"
          ]
        }
      ],
      "source": [
        "rain=str(input(\"今天會下雨嗎？\"))\n",
        "if (rain==\"Y\"or rain==\"y\"):\n",
        "  print('記得帶傘')\n",
        "elif(rain==\"N\"or rain==\"n\"):\n",
        "  print('不用帶傘')\n",
        "else:\n",
        "  print(\"輸入錯誤請重新輸入\")"
      ]
    },
    {
      "cell_type": "code",
      "source": [
        "a=float(input(\"請輸入體溫:\"))\n",
        "if a>=37.5:\n",
        "  print(\"體溫過高!\")\n",
        "elif a>=37 and a<=37.4:\n",
        "  print(\"體溫略高!\")\n",
        "elif a>=34 and a<=36.9:\n",
        "  print(\"體溫正常!\")\n",
        "else:\n",
        "  print(\"體溫異常，請重新測量!\")\n"
      ],
      "metadata": {
        "colab": {
          "base_uri": "https://localhost:8080/"
        },
        "id": "piFbQiKusBjT",
        "outputId": "f463387d-fbaa-4039-e758-f1491b623b6b"
      },
      "execution_count": 2,
      "outputs": [
        {
          "output_type": "stream",
          "name": "stdout",
          "text": [
            "請輸入體溫:33\n",
            "體溫異常，請重新測量!\n"
          ]
        }
      ]
    },
    {
      "cell_type": "code",
      "source": [
        "month=int(input(\"請輸入月份:\"))\n",
        "if month>=3 and month<=5:\n",
        "  print(month,\"月是春天!\")\n",
        "elif month>=6 and month<=8:\n",
        "  print(month,\"月是夏天!\")\n",
        "elif month>=9 and month<=11:\n",
        "  print(month,\"月秋天!\")\n",
        "elif month==12 or month<=2:\n",
        "  print(month,\"月是冬天!\")\n",
        "else:\n",
        "  print(\"月份不在範圍內!\")"
      ],
      "metadata": {
        "colab": {
          "base_uri": "https://localhost:8080/"
        },
        "id": "r3CkLnlCsIkW",
        "outputId": "11a2e352-dceb-49a0-beb9-0d12c001e5db"
      },
      "execution_count": 3,
      "outputs": [
        {
          "output_type": "stream",
          "name": "stdout",
          "text": [
            "請輸入月份:9\n",
            "9 月秋天!\n"
          ]
        }
      ]
    },
    {
      "cell_type": "code",
      "source": [
        "tax=int(input(\"請輸入今年收入淨額\"))\n",
        "if tax>=2000000:\n",
        "  print(\"付稅金額:\",tax*0.3,\"元\")\n",
        "elif tax>=1000000 and tax<2000000:\n",
        "  print(\"付稅金額:\",tax*0.21,\"元\")\n",
        "elif tax>=600000 and tax<1000000:\n",
        "  print(\"付稅金額:\",tax*0.13,\"元\")\n",
        "elif tax>=300000 and tax<600000:\n",
        "  print(\"付稅金額:\",tax*0.06,\"元\")  \n",
        "else:\n",
        "  print(\"付稅金額:0元\")"
      ],
      "metadata": {
        "colab": {
          "base_uri": "https://localhost:8080/"
        },
        "id": "O9yP5ghWsPkt",
        "outputId": "ba67c95c-0bc3-43af-f826-fcb6cfcdf463"
      },
      "execution_count": 4,
      "outputs": [
        {
          "output_type": "stream",
          "name": "stdout",
          "text": [
            "請輸入今年收入淨額400000\n",
            "付稅金額: 24000.0 元\n"
          ]
        }
      ]
    },
    {
      "cell_type": "code",
      "source": [
        "score = int(input(\"score: \"))\n",
        "if score >= 90:\n",
        "    print('Grade is: A')\n",
        "elif score >= 80:\n",
        "    print('Grade is: B')\n",
        "elif score >= 70:\n",
        "    print('Grade is: C')\n",
        "elif score >= 60:\n",
        "    print('Grade is: D')\n",
        "else:\n",
        "    print('Grade is: F')"
      ],
      "metadata": {
        "colab": {
          "base_uri": "https://localhost:8080/"
        },
        "id": "8j3Pqh5_sgAI",
        "outputId": "170a5ed6-0acc-4e8d-ba8a-8ef62706939b"
      },
      "execution_count": 5,
      "outputs": [
        {
          "output_type": "stream",
          "name": "stdout",
          "text": [
            "score: 80\n",
            "Grade is: B\n"
          ]
        }
      ]
    },
    {
      "cell_type": "code",
      "source": [
        "score = int(input(\"請輸入成績\"))\n",
        "if score >= 90:\n",
        "    print('A')\n",
        "elif score >= 80:\n",
        "    print('B')\n",
        "elif score >= 70:\n",
        "    print('C')\n",
        "elif score >= 60:\n",
        "    print('D')\n",
        "else:\n",
        "    print('E')"
      ],
      "metadata": {
        "colab": {
          "base_uri": "https://localhost:8080/"
        },
        "id": "RtKEOdLLss2A",
        "outputId": "303c7cee-e918-4cf6-9bb3-290d9f9994f1"
      },
      "execution_count": 6,
      "outputs": [
        {
          "output_type": "stream",
          "name": "stdout",
          "text": [
            "請輸入成績80\n",
            "B\n"
          ]
        }
      ]
    }
  ]
}