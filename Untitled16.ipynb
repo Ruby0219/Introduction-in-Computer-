{
  "nbformat": 4,
  "nbformat_minor": 0,
  "metadata": {
    "colab": {
      "provenance": [],
      "authorship_tag": "ABX9TyPxcXApndawl0spc5e58vFb",
      "include_colab_link": true
    },
    "kernelspec": {
      "name": "python3",
      "display_name": "Python 3"
    },
    "language_info": {
      "name": "python"
    }
  },
  "cells": [
    {
      "cell_type": "markdown",
      "metadata": {
        "id": "view-in-github",
        "colab_type": "text"
      },
      "source": [
        "<a href=\"https://colab.research.google.com/github/Ruby0219/Introduction-in-Computer-/blob/main/Untitled16.ipynb\" target=\"_parent\"><img src=\"https://colab.research.google.com/assets/colab-badge.svg\" alt=\"Open In Colab\"/></a>"
      ]
    },
    {
      "cell_type": "code",
      "execution_count": 1,
      "metadata": {
        "colab": {
          "base_uri": "https://localhost:8080/"
        },
        "id": "xmMXxy7t0_o1",
        "outputId": "01c38a05-0a37-4ac8-ab17-af1f21de5fd1"
      },
      "outputs": [
        {
          "output_type": "stream",
          "name": "stdout",
          "text": [
            "0\n",
            "0 is even\n"
          ]
        }
      ],
      "source": [
        "num=int(input())\n",
        "if num>=0:\n",
        "    if num%2==0:\n",
        "        print(num, \"is even\")\n",
        "    else:\n",
        "        print(num, \"is odd\")\n",
        "else:\n",
        "    print(\"Input Error\")"
      ]
    },
    {
      "cell_type": "code",
      "source": [
        "total=0\n",
        "for i in range(1,101):\n",
        "  total+=i\n",
        "print(\"1到100的總合為:\",total)"
      ],
      "metadata": {
        "colab": {
          "base_uri": "https://localhost:8080/"
        },
        "id": "UTorw91p1cTs",
        "outputId": "518fc096-a932-4f07-b518-4fbd8e8e88cb"
      },
      "execution_count": 2,
      "outputs": [
        {
          "output_type": "stream",
          "name": "stdout",
          "text": [
            "1到100的總合為: 5050\n"
          ]
        }
      ]
    },
    {
      "cell_type": "code",
      "source": [
        "a=int(input())\n",
        "if a<0:\n",
        "  print(\"Input Error\")\n",
        "else:\n",
        "  total=100000*(1+0.03)**a\n",
        "  print(total)"
      ],
      "metadata": {
        "colab": {
          "base_uri": "https://localhost:8080/"
        },
        "id": "v7BrK1Pw1fyo",
        "outputId": "0adb5827-3659-474d-a3ba-f788a8f3c73d"
      },
      "execution_count": 3,
      "outputs": [
        {
          "output_type": "stream",
          "name": "stdout",
          "text": [
            "6\n",
            "119405.22965290002\n"
          ]
        }
      ]
    },
    {
      "cell_type": "code",
      "source": [
        "\n",
        "data=input()\n",
        "items=data.split()\n",
        "items.reverse()\n",
        "print(\" \".join(items))"
      ],
      "metadata": {
        "colab": {
          "base_uri": "https://localhost:8080/"
        },
        "id": "m7rUWupp1kKi",
        "outputId": "22bb28b8-cbf3-4d5f-e374-02ece0b6c414"
      },
      "execution_count": 4,
      "outputs": [
        {
          "output_type": "stream",
          "name": "stdout",
          "text": [
            "456\n",
            "456\n"
          ]
        }
      ]
    },
    {
      "cell_type": "code",
      "source": [
        "n = int(input())\n",
        "factors = []\n",
        "for i in range(1, n+1):\n",
        "    if n % i == 0:\n",
        "        factors.append(str(i))\n",
        "output =\" \".join(factors)\n",
        "print(output)"
      ],
      "metadata": {
        "colab": {
          "base_uri": "https://localhost:8080/"
        },
        "id": "6T8lgK071o18",
        "outputId": "11e0c86d-9221-41cf-8790-ed380a24e3b6"
      },
      "execution_count": 5,
      "outputs": [
        {
          "output_type": "stream",
          "name": "stdout",
          "text": [
            "25\n",
            "1 5 25\n"
          ]
        }
      ]
    }
  ]
}